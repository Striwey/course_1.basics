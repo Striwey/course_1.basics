{
  "metadata": {
    "toc-showmarkdowntxt": true,
    "language_info": {
      "codemirror_mode": {
        "name": "javascript"
      },
      "file_extension": ".js",
      "mimetype": "text/javascript",
      "name": "p5js",
      "nbconvert_exporter": "javascript",
      "pygments_lexer": "javascript",
      "version": "es2017"
    },
    "kernelspec": {
      "name": "p5js",
      "display_name": "p5.js",
      "language": "javascript"
    }
  },
  "nbformat_minor": 4,
  "nbformat": 4,
  "cells": [
    {
      "cell_type": "markdown",
      "source": "# Introducción a P5",
      "metadata": {
        "tags": []
      }
    },
    {
      "cell_type": "markdown",
      "source": "## Recursos",
      "metadata": {
        "tags": [],
        "jp-MarkdownHeadingCollapsed": true
      }
    },
    {
      "cell_type": "markdown",
      "source": "### Editor\n\n[P5.js](https://p5js.org/es/) tiene un [editor online](https://editor.p5js.org/), en el cual al [loguearse](https://editor.p5js.org/login), permite guardar los archivos y poder acceder a ellos desde cualquier dispositivo con internet.\n- [editor.p5js.org](https://editor.p5js.org/)\n\n### Documentación\n\nEn el apartado [refencia](https://p5js.org/es/reference/) de su páguina principal, encontraremos todos los metodos de p5.js, con su respectiva descripción y posibles usos.\n- [p5js.org/es/reference/ ](https://p5js.org/es/reference/)\n\n### Tutorial\n- [Play list de The coding train YTchannel](https://www.youtube.com/watch?v=8j0UDiN7my4&list=PLglp04UYZK_PrN6xWo_nJ-8kzyXDyFUwi&index=1)",
      "metadata": {
        "tags": []
      }
    },
    {
      "cell_type": "markdown",
      "source": "## Métodos de estructuración",
      "metadata": {}
    },
    {
      "cell_type": "markdown",
      "source": "### Principales\n\n- [setup( ): ](https://p5js.org/es/reference/#/p5/setup)\nLa función setup( ) es ejecutada una vez, cuando el programa empieza. Es usada para definir propiedades iniciales como amaño de la pantalla y color de fondo y para cargar medios como imágenes y tipografías cuando el programa empieza.\n- [draw( ): ](https://p5js.org/es/reference/#/p5/draw)\nLa función draw( ) es ejecutada después de setup( ), y ejecuta contínuamente las líneas de código dentro de su bloque hasta que el programa es detenido o se ejecuta la función noLoop( ).",
      "metadata": {}
    },
    {
      "cell_type": "markdown",
      "source": "",
      "metadata": {}
    },
    {
      "cell_type": "markdown",
      "source": "",
      "metadata": {}
    },
    {
      "cell_type": "markdown",
      "source": "",
      "metadata": {}
    },
    {
      "cell_type": "markdown",
      "source": "",
      "metadata": {}
    },
    {
      "cell_type": "code",
      "source": "var n = 4;\nvar speed1 = 30;\nvar speed2 = 1;\n\nfunction setup () {\n  createCanvas(innerWidth, innerHeight);\n  rectMode(CENTER);\n}\n\nfunction draw() {\n  background('#ddd');\n  translate(0, innerHeight / 2);\n  drawRects(0.33, speed1);\n  redraw();\n  drawRects(0.33, speed2);    \n}\n\nfunction drawRects(pos, speed) {\n  translate(innerWidth * pos, 0);\n  for (let i = 0; i < n; i++) {\n    push();\n    rotate(frameCount * speed / 1000 * (i + 1));\n    fill(i * 5, i * 100, i * 150);\n    const s = 200 - i * 10;\n    rect(0, 0, s, s);\n    pop();\n  }\n}",
      "metadata": {
        "trusted": true
      },
      "execution_count": 30,
      "outputs": []
    },
    {
      "cell_type": "code",
      "source": "%show",
      "metadata": {
        "trusted": true
      },
      "execution_count": 22,
      "outputs": [
        {
          "output_type": "display_data",
          "data": {
            "text/html-sandboxed": "<body style=\"overflow: hidden;\">\n<script>\n        \n    import('https://cdn.jsdelivr.net/npm/p5@1.5.0/lib/p5.js').then(() => {\n      // create the p5 global instance\n      window.__globalP5 = new p5();\n      return Promise.resolve();\n    })\n  .then(() => {\n          try {\nwindow.eval(`var n = 4;\nvar speed = 1;\nfunction setup () {\n  createCanvas(innerWidth, innerHeight);\n  rectMode(CENTER);\n}\nfunction draw() {\n  background('#ddd');\n  translate(innerWidth / 2, innerHeight / 2);\n  for (let i = 0; i < n; i++) {\n    push();\n    rotate(frameCount * speed / 1000 * (i + 1));\n    fill(i * 5, i * 100, i * 150);\n    const s = 200 - i * 10;\n    rect(0, 0, s, s);\n    pop();\n  }\n}`);\n} catch(e) {}\ntry {\nwindow.eval(`var n = 4;\nvar speed = 100;\n\nfunction setup () {\n  createCanvas(innerWidth, innerHeight);\n  rectMode(CENTER);\n}\n\nfunction draw() {\n  background('#ddd');\n  translate(innerWidth / 2, innerHeight / 2);\n  for (let i = 0; i < n; i++) {\n    push();\n    rotate(frameCount * speed / 1000 * (i + 1));\n    fill(i * 5, i * 100, i * 150);\n    const s = 200 - i * 10;\n    rect(0, 0, s, s);\n    pop();\n  }\n}`);\n} catch(e) {}\ntry {\nwindow.eval(`var n = 4;\nvar speed = 30;\n\nfunction setup () {\n  createCanvas(innerWidth, innerHeight);\n  rectMode(CENTER);\n}\n\nfunction draw() {\n  background('#ddd');\n  translate(innerWidth / 2, innerHeight / 2);\n  for (let i = 0; i < n; i++) {\n    push();\n    rotate(frameCount * speed / 1000 * (i + 1));\n    fill(i * 5, i * 100, i * 150);\n    const s = 200 - i * 10;\n    rect(0, 0, s, s);\n    pop();\n  }\n}`);\n} catch(e) {}\ntry {\nwindow.eval(`var n = 4;\nvar speed1 = 30;\nvar speed2 = 1;\n\nfunction setup () {\n  createCanvas(innerWidth, innerHeight);\n  rectMode(CENTER);\n}\n\nfunction draw() {\n  background('#ddd');\n  drawRect(2, speed2);\n}\n\nfunction drawRect(pos, speed) {\n  translate(innerWidth / pos, innerHeight / pos);\n  for (let i = 0; i < n; i++) {\n    push();\n    rotate(frameCount * speed / 1000 * (i + 1));\n    fill(i * 5, i * 100, i * 150);\n    const s = 200 - i * 10;\n    rect(0, 0, s, s);\n    pop();\n  }\n}`);\n} catch(e) {}\ntry {\nwindow.eval(`var n = 4;\nvar speed1 = 30;\nvar speed2 = 1;\n\nfunction setup () {\n  createCanvas(innerWidth, innerHeight);\n  rectMode(CENTER);\n}\n\nfunction draw() {\n  background('#ddd');\n  drawRect(2/3, speed1);\n  drawRect(3, speed2);    \n}\n\nfunction drawRect(pos, speed) {\n  translate(innerWidth / pos, innerHeight / pos);\n  for (let i = 0; i < n; i++) {\n    push();\n    rotate(frameCount * speed / 1000 * (i + 1));\n    fill(i * 5, i * 100, i * 150);\n    const s = 200 - i * 10;\n    rect(0, 0, s, s);\n    pop();\n  }\n}`);\n} catch(e) {}\ntry {\nwindow.eval(`var n = 4;\nvar speed1 = 30;\nvar speed2 = 1;\n\nfunction setup () {\n  createCanvas(innerWidth, innerHeight);\n  rectMode(CENTER);\n}\n\nfunction draw() {\n  background('#ddd');\n  drawRect(2/3, speed1);\n  //drawRect(3, speed2);    \n}\n\nfunction drawRect(pos, speed) {\n  translate(innerWidth / pos, innerHeight / pos);\n  for (let i = 0; i < n; i++) {\n    push();\n    rotate(frameCount * speed / 1000 * (i + 1));\n    fill(i * 5, i * 100, i * 150);\n    const s = 200 - i * 10;\n    rect(0, 0, s, s);\n    pop();\n  }\n}`);\n} catch(e) {}\ntry {\nwindow.eval(`var n = 4;\nvar speed1 = 30;\nvar speed2 = 1;\n\nfunction setup () {\n  createCanvas(innerWidth, innerHeight);\n  rectMode(CENTER);\n}\n\nfunction draw() {\n  background('#ddd');\n  drawRect(2/3, speed1);\n  drawRect(3, speed2);    \n}\n\nfunction drawRect(pos, speed) {\n  //translate(innerWidth / pos, innerHeight / pos);\n  for (let i = 0; i < n; i++) {\n    push();\n    rotate(frameCount * speed / 1000 * (i + 1));\n    fill(i * 5, i * 100, i * 150);\n    const s = 200 - i * 10;\n    rect(0, 0, s, s);\n    pop();\n  }\n}`);\n} catch(e) {}\ntry {\nwindow.eval(`var n = 4;\nvar speed1 = 30;\nvar speed2 = 1;\n\nfunction setup () {\n  createCanvas(innerWidth, innerHeight);\n  rectMode(CENTER);\n}\n\nfunction draw() {\n  background('#ddd');\n  drawRect(2/3, speed1);\n  drawRect(3, speed2);    \n}\n\nfunction drawRect(pos, speed) {\n  //translate(innerWidth / pos, innerHeight / pos);\n  for (let i = 0; i < n; i++) {\n    push();\n    rotate(frameCount * speed / 1000 * (i + 1));\n    fill(i * 5, i * 100, i * 150);\n    const s = 200 - i * 10;\n    rect(innerWidth / pos, innerHeight / pos, s, s);\n    pop();\n  }\n}`);\n} catch(e) {}\ntry {\nwindow.eval(`var n = 4;\nvar speed1 = 30;\nvar speed2 = 1;\n\nfunction setup () {\n  createCanvas(innerWidth, innerHeight);\n  rectMode(CENTER);\n}\n\nfunction draw() {\n  background('#ddd');\n  drawRect(2/3, speed1);\n  //drawRect(3, speed2);    \n}\n\nfunction drawRect(pos, speed) {\n  //translate(innerWidth / pos, innerHeight / pos);\n  for (let i = 0; i < n; i++) {\n    push();\n    rotate(frameCount * speed / 1000 * (i + 1));\n    fill(i * 5, i * 100, i * 150);\n    const s = 200 - i * 10;\n    rect(innerWidth / pos, innerHeight / pos, s, s);\n    pop();\n  }\n}`);\n} catch(e) {}\ntry {\nwindow.eval(`var n = 4;\nvar speed1 = 30;\nvar speed2 = 1;\n\nfunction setup () {\n  createCanvas(innerWidth, innerHeight);\n  rectMode(CENTER);\n}\n\nfunction draw() {\n  background('#ddd');\n  drawRect(0.2, speed1);\n  drawRect(3.4, speed2);    \n}\n\nfunction drawRect(pos, speed) {\n  //translate(innerWidth / pos, innerHeight / pos);\n  for (let i = 0; i < n; i++) {\n    push();\n    rotate(frameCount * speed / 1000 * (i + 1));\n    fill(i * 5, i * 100, i * 150);\n    const s = 200 - i * 10;\n    rect(innerWidth * pos, innerHeight * pos, s, s);\n    pop();\n  }\n}`);\n} catch(e) {}\ntry {\nwindow.eval(`var n = 4;\nvar speed1 = 30;\nvar speed2 = 1;\n\nfunction setup () {\n  createCanvas(innerWidth, innerHeight);\n  rectMode(CENTER);\n}\n\nfunction draw() {\n  background('#ddd');\n  drawRect(0.2, speed1);\n  drawRect(0.8, speed2);    \n}\n\nfunction drawRect(pos, speed) {\n  //translate(innerWidth / pos, innerHeight / pos);\n  for (let i = 0; i < n; i++) {\n    push();\n    rotate(frameCount * speed / 1000 * (i + 1));\n    fill(i * 5, i * 100, i * 150);\n    const s = 200 - i * 10;\n    rect(innerWidth * pos, innerHeight * pos, s, s);\n    pop();\n  }\n}`);\n} catch(e) {}\ntry {\nwindow.eval(`var n = 4;\nvar speed1 = 30;\nvar speed2 = 1;\n\nfunction setup () {\n  createCanvas(innerWidth, innerHeight);\n  rectMode(CENTER);\n}\n\nfunction draw() {\n  background('#ddd');\n  drawRect(0.4, speed1);\n  drawRect(0.6, speed2);    \n}\n\nfunction drawRect(pos, speed) {\n  //translate(innerWidth / pos, innerHeight / pos);\n  for (let i = 0; i < n; i++) {\n    push();\n    rotate(frameCount * speed / 1000 * (i + 1));\n    fill(i * 5, i * 100, i * 150);\n    const s = 200 - i * 10;\n    rect(innerWidth * pos, innerHeight * pos, s, s);\n    pop();\n  }\n}`);\n} catch(e) {}\ntry {\nwindow.eval(`var n = 4;\nvar speed1 = 30;\nvar speed2 = 1;\n\nfunction setup () {\n  createCanvas(innerWidth, innerHeight);\n  rectMode(CENTER);\n}\n\nfunction draw() {\n  background('#ddd');\n  drawRect(0.4, speed1);\n  drawRect(0.6, speed2);    \n}\n\nfunction drawRect(pos, speed) {\n  //translate(innerWidth / pos, innerHeight / pos);\n  for (let i = 0; i < n; i++) {\n    push();\n    //rotate(frameCount * speed / 1000 * (i + 1));\n    fill(i * 5, i * 100, i * 150);\n    const s = 200 - i * 10;\n    rect(innerWidth * pos, innerHeight * pos, s, s);\n    pop();\n  }\n}`);\n} catch(e) {}\ntry {\nwindow.eval(`var n = 4;\nvar speed1 = 30;\nvar speed2 = 1;\n\nfunction setup () {\n  createCanvas(innerWidth, innerHeight);\n  rectMode(CENTER);\n}\n\nfunction draw() {\n  background('#ddd');\n  drawRect(0.4, speed1);\n  drawRect(0.6, speed2);    \n}\n\nfunction drawRect(pos, speed) {\n  //translate(innerWidth / pos, innerHeight / pos);\n  for (let i = 0; i < n; i++) {\n    push();\n    //rotate(frameCount * speed / 1000 * (i + 1));\n    fill(i * 5, i * 100, i * 150);\n    const s = 200 - i * 10;\n    rect(innerWidth * pos, innerHeight / 2, s, s);\n    pop();\n  }\n}`);\n} catch(e) {}\ntry {\nwindow.eval(`var n = 4;\nvar speed1 = 30;\nvar speed2 = 1;\n\nfunction setup () {\n  createCanvas(innerWidth, innerHeight);\n  rectMode(CENTER);\n}\n\nfunction draw() {\n  background('#ddd');\n  drawRect(0.35, speed1);\n  drawRect(0.65, speed2);    \n}\n\nfunction drawRect(pos, speed) {\n  //translate(innerWidth / pos, innerHeight / pos);\n  for (let i = 0; i < n; i++) {\n    push();\n    //rotate(frameCount * speed / 1000 * (i + 1));\n    fill(i * 5, i * 100, i * 150);\n    const s = 200 - i * 10;\n    rect(innerWidth * pos, innerHeight / 2, s, s);\n    pop();\n  }\n}`);\n} catch(e) {}\ntry {\nwindow.eval(`var n = 4;\nvar speed1 = 30;\nvar speed2 = 1;\n\nfunction setup () {\n  createCanvas(innerWidth, innerHeight);\n  rectMode(CENTER);\n}\n\nfunction draw() {\n  background('#ddd');\n  drawRect(0.33, speed1);\n  drawRect(0.66, speed2);    \n}\n\nfunction drawRect(pos, speed) {\n  //translate(innerWidth / pos, innerHeight / pos);\n  for (let i = 0; i < n; i++) {\n    push();\n    //rotate(frameCount * speed / 1000 * (i + 1));\n    fill(i * 5, i * 100, i * 150);\n    const s = 200 - i * 10;\n    rect(innerWidth * pos, innerHeight / 2, s, s);\n    pop();\n  }\n}`);\n} catch(e) {}\ntry {\nwindow.eval(`var n = 4;\nvar speed1 = 30;\nvar speed2 = 1;\n\nfunction setup () {\n  createCanvas(innerWidth, innerHeight);\n  rectMode(CENTER);\n}\n\nfunction draw() {\n  background('#ddd');\n  drawRects(0.33, speed1);\n  drawRects(0.66, speed2);    \n}\n\nfunction drawRect(pos, speed) {\n  //translate(innerWidth / pos, innerHeight / pos);\n  for (let i = 0; i < n; i++) {\n    push();\n    rotateX(frameCount * speed / 1000 * (i + 1));\n    fill(i * 5, i * 100, i * 150);\n    const s = 200 - i * 10;\n    rect(innerWidth * pos, innerHeight / 2, s, s);\n    pop();\n  }\n}`);\n} catch(e) {}\ntry {\nwindow.eval(`var n = 4;\nvar speed1 = 30;\nvar speed2 = 1;\n\nfunction setup () {\n  createCanvas(innerWidth, innerHeight);\n  rectMode(CENTER);\n}\n\nfunction draw() {\n  background('#ddd');\n  drawRects(0.33, speed1);\n  drawRects(0.66, speed2);    \n}\n\nfunction drawRects(pos, speed) {\n  //translate(innerWidth / pos, innerHeight / pos);\n  for (let i = 0; i < n; i++) {\n    push();\n    rotateX(frameCount * speed / 1000 * (i + 1));\n    fill(i * 5, i * 100, i * 150);\n    const s = 200 - i * 10;\n    rect(innerWidth * pos, innerHeight / 2, s, s);\n    pop();\n  }\n}`);\n} catch(e) {}\ntry {\nwindow.eval(`var n = 4;\nvar speed1 = 30;\nvar speed2 = 1;\n\nfunction setup () {\n  createCanvas(innerWidth, innerHeight);\n  rectMode(CENTER);\n}\n\nfunction draw() {\n  background('#ddd');\n  drawRects(0.33, speed1);\n  redraw();\n  drawRects(0.66, speed2);    \n}\n\nfunction drawRects(pos, speed) {\n  translate(innerWidth * pos, innerHeight / 2);\n  for (let i = 0; i < n; i++) {\n    push();\n    rotate(frameCount * speed / 1000 * (i + 1));\n    fill(i * 5, i * 100, i * 150);\n    const s = 200 - i * 10;\n    rect(innerWidth * pos, innerHeight / 2, s, s);\n    pop();\n  }\n}`);\n} catch(e) {}\ntry {\nwindow.eval(`var n = 4;\nvar speed1 = 30;\nvar speed2 = 1;\n\nfunction setup () {\n  createCanvas(innerWidth, innerHeight);\n  rectMode(CENTER);\n}\n\nfunction draw() {\n  background('#ddd');\n  drawRects(0.33, speed1);\n  redraw();\n  drawRects(0.66, speed2);    \n}\n\nfunction drawRects(pos, speed) {\n  translate(innerWidth * pos, innerHeight / 2);\n  for (let i = 0; i < n; i++) {\n    push();\n    rotate(frameCount * speed / 1000 * (i + 1));\n    fill(i * 5, i * 100, i * 150);\n    const s = 200 - i * 10;\n    rect(0, 0, s, s);\n    pop();\n  }\n}`);\n} catch(e) {}\ntry {\nwindow.eval(`var n = 4;\nvar speed1 = 30;\nvar speed2 = 1;\n\nfunction setup () {\n  createCanvas(innerWidth, innerHeight);\n  rectMode(CENTER);\n}\n\nfunction draw() {\n  background('#ddd');\n  drawRects(0.33, speed1);\n  redraw();\n  drawRects(0.66, speed2);    \n}\n\nfunction drawRects(pos, speed) {\n  translate(0, 0);\n  translate(innerWidth * pos, innerHeight / 2);\n  for (let i = 0; i < n; i++) {\n    push();\n    rotate(frameCount * speed / 1000 * (i + 1));\n    fill(i * 5, i * 100, i * 150);\n    const s = 200 - i * 10;\n    rect(0, 0, s, s);\n    pop();\n  }\n}`);\n} catch(e) {}\ntry {\nwindow.eval(`var n = 4;\nvar speed1 = 30;\nvar speed2 = 1;\n\nfunction setup () {\n  createCanvas(innerWidth, innerHeight);\n  rectMode(CENTER);\n}\n\nfunction draw() {\n  background('#ddd');\n  drawRects(0.33, speed1);\n  redraw();\n  drawRects(0.33, speed2);    \n}\n\nfunction drawRects(pos, speed) {\n  translate(innerWidth * pos, innerHeight / 2);\n  for (let i = 0; i < n; i++) {\n    push();\n    rotate(frameCount * speed / 1000 * (i + 1));\n    fill(i * 5, i * 100, i * 150);\n    const s = 200 - i * 10;\n    rect(0, 0, s, s);\n    pop();\n  }\n}`);\n} catch(e) {}\ntry {\nwindow.eval(`var n = 4;\nvar speed1 = 30;\nvar speed2 = 1;\n\nfunction setup () {\n  createCanvas(innerWidth, innerHeight);\n  rectMode(CENTER);\n}\n\nfunction draw() {\n  background('#ddd');\n  drawRects(0.33, speed1);\n  redraw();\n  drawRects(0.33, speed2);    \n}\n\nfunction drawRects(pos, speed) {\n  translate(innerWidth * pos, innerHeight / 2);\n  for (let i = 0; i < n; i++) {\n    push();\n    rotate(frameCount * speed / 1000 * (i + 1));\n    fill(i * 5, i * 100, i * 150);\n    const s = 200 - i * 10;\n    rect(0, 0, s, s);\n    pop();\n    translate(-innerWidthh * pos, -innerHeight / 2);\n  }\n}`);\n} catch(e) {}\ntry {\nwindow.eval(`var n = 4;\nvar speed1 = 30;\nvar speed2 = 1;\n\nfunction setup () {\n  createCanvas(innerWidth, innerHeight);\n  rectMode(CENTER);\n}\n\nfunction draw() {\n  background('#ddd');\n  drawRects(0.33, speed1);\n  redraw();\n  drawRects(0.33, speed2);    \n}\n\nfunction drawRects(pos, speed) {\n  translate(innerWidth * pos, innerHeight / 2);\n  for (let i = 0; i < n; i++) {\n    push();\n    rotate(frameCount * speed / 1000 * (i + 1));\n    fill(i * 5, i * 100, i * 150);\n    const s = 200 - i * 10;\n    rect(0, 0, s, s);\n    pop();\n    \n  }\n}`);\n} catch(e) {}\ntry {\nwindow.eval(`var n = 4;\nvar speed1 = 30;\nvar speed2 = 1;\n\nfunction setup () {\n  createCanvas(innerWidth, innerHeight);\n  rectMode(CENTER);\n}\n\nfunction draw() {\n  background('#ddd');\n  translate(innerHeight / 2);\n  drawRects(0.33, speed1);\n  redraw();\n  drawRects(0.33, speed2);    \n}\n\nfunction drawRects(pos, speed) {\n  translate(innerWidth * pos, 0);\n  for (let i = 0; i < n; i++) {\n    push();\n    rotate(frameCount * speed / 1000 * (i + 1));\n    fill(i * 5, i * 100, i * 150);\n    const s = 200 - i * 10;\n    rect(0, 0, s, s);\n    pop();\n  }\n}`);\n} catch(e) {}\ntry {\nwindow.eval(`var n = 4;\nvar speed1 = 30;\nvar speed2 = 1;\n\nfunction setup () {\n  createCanvas(innerWidth, innerHeight);\n  rectMode(CENTER);\n}\n\nfunction draw() {\n  background('#ddd');\n  translate(0, innerHeight / 2);\n  drawRects(0.33, speed1);\n  redraw();\n  drawRects(0.33, speed2);    \n}\n\nfunction drawRects(pos, speed) {\n  translate(innerWidth * pos, 0);\n  for (let i = 0; i < n; i++) {\n    push();\n    rotate(frameCount * speed / 1000 * (i + 1));\n    fill(i * 5, i * 100, i * 150);\n    const s = 200 - i * 10;\n    rect(0, 0, s, s);\n    pop();\n  }\n}`);\n} catch(e) {}\n          window.__globalP5._start();\n        })\n      </script>\n</body>"
          },
          "metadata": {
            "text/html-sandboxed": {}
          }
        }
      ]
    },
    {
      "cell_type": "code",
      "source": "",
      "metadata": {},
      "execution_count": null,
      "outputs": []
    }
  ]
}